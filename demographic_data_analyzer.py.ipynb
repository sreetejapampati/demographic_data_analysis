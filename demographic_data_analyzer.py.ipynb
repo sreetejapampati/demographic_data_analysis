{
 "cells": [
  {
   "cell_type": "code",
   "execution_count": 3,
   "id": "1ac960c4",
   "metadata": {},
   "outputs": [],
   "source": [
    "import pandas as pd"
   ]
  },
  {
   "cell_type": "code",
   "execution_count": 4,
   "id": "eb2540ce",
   "metadata": {},
   "outputs": [
    {
     "name": "stdout",
     "output_type": "stream",
     "text": [
      "   age         workclass  fnlwgt  education  education-num  \\\n",
      "0   39         State-gov   77516  Bachelors             13   \n",
      "1   50  Self-emp-not-inc   83311  Bachelors             13   \n",
      "2   38           Private  215646    HS-grad              9   \n",
      "3   53           Private  234721       11th              7   \n",
      "4   28           Private  338409  Bachelors             13   \n",
      "\n",
      "       marital-status         occupation   relationship   race     sex  \\\n",
      "0       Never-married       Adm-clerical  Not-in-family  White    Male   \n",
      "1  Married-civ-spouse    Exec-managerial        Husband  White    Male   \n",
      "2            Divorced  Handlers-cleaners  Not-in-family  White    Male   \n",
      "3  Married-civ-spouse  Handlers-cleaners        Husband  Black    Male   \n",
      "4  Married-civ-spouse     Prof-specialty           Wife  Black  Female   \n",
      "\n",
      "   capital-gain  capital-loss  hours-per-week native-country salary  \n",
      "0          2174             0              40  United-States  <=50K  \n",
      "1             0             0              13  United-States  <=50K  \n",
      "2             0             0              40  United-States  <=50K  \n",
      "3             0             0              40  United-States  <=50K  \n",
      "4             0             0              40           Cuba  <=50K  \n"
     ]
    }
   ],
   "source": [
    "df = pd.read_csv(\"adult_data.csv\")\n",
    "print(df.head())"
   ]
  },
  {
   "cell_type": "markdown",
   "id": "cc5effa9",
   "metadata": {},
   "source": [
    "# How many of each race are represented in this dataset?\n"
   ]
  },
  {
   "cell_type": "code",
   "execution_count": 5,
   "id": "641b246b",
   "metadata": {},
   "outputs": [
    {
     "name": "stdout",
     "output_type": "stream",
     "text": [
      "White                 27816\n",
      "Black                  3124\n",
      "Asian-Pac-Islander     1039\n",
      "Amer-Indian-Eskimo      311\n",
      "Other                   271\n",
      "Name: race, dtype: int64\n"
     ]
    }
   ],
   "source": [
    "race_count = df.race.value_counts()\n",
    "print(race_count)"
   ]
  },
  {
   "cell_type": "markdown",
   "id": "dbde14cc",
   "metadata": {},
   "source": [
    "# What is the average age of men?"
   ]
  },
  {
   "cell_type": "code",
   "execution_count": 6,
   "id": "17f6d7d8",
   "metadata": {},
   "outputs": [
    {
     "name": "stdout",
     "output_type": "stream",
     "text": [
      "age                int64\n",
      "workclass         object\n",
      "fnlwgt             int64\n",
      "education         object\n",
      "education-num      int64\n",
      "marital-status    object\n",
      "occupation        object\n",
      "relationship      object\n",
      "race              object\n",
      "sex               object\n",
      "capital-gain       int64\n",
      "capital-loss       int64\n",
      "hours-per-week     int64\n",
      "native-country    object\n",
      "salary            object\n",
      "dtype: object\n"
     ]
    }
   ],
   "source": [
    "print(df.dtypes)"
   ]
  },
  {
   "cell_type": "code",
   "execution_count": 7,
   "id": "a3fe1dcc",
   "metadata": {},
   "outputs": [
    {
     "name": "stdout",
     "output_type": "stream",
     "text": [
      "       age         workclass  fnlwgt     education  education-num  \\\n",
      "0       39         State-gov   77516     Bachelors             13   \n",
      "1       50  Self-emp-not-inc   83311     Bachelors             13   \n",
      "2       38           Private  215646       HS-grad              9   \n",
      "3       53           Private  234721          11th              7   \n",
      "7       52  Self-emp-not-inc  209642       HS-grad              9   \n",
      "...    ...               ...     ...           ...            ...   \n",
      "32553   32           Private  116138       Masters             14   \n",
      "32554   53           Private  321865       Masters             14   \n",
      "32555   22           Private  310152  Some-college             10   \n",
      "32557   40           Private  154374       HS-grad              9   \n",
      "32559   22           Private  201490       HS-grad              9   \n",
      "\n",
      "           marital-status         occupation   relationship  \\\n",
      "0           Never-married       Adm-clerical  Not-in-family   \n",
      "1      Married-civ-spouse    Exec-managerial        Husband   \n",
      "2                Divorced  Handlers-cleaners  Not-in-family   \n",
      "3      Married-civ-spouse  Handlers-cleaners        Husband   \n",
      "7      Married-civ-spouse    Exec-managerial        Husband   \n",
      "...                   ...                ...            ...   \n",
      "32553       Never-married       Tech-support  Not-in-family   \n",
      "32554  Married-civ-spouse    Exec-managerial        Husband   \n",
      "32555       Never-married    Protective-serv  Not-in-family   \n",
      "32557  Married-civ-spouse  Machine-op-inspct        Husband   \n",
      "32559       Never-married       Adm-clerical      Own-child   \n",
      "\n",
      "                     race   sex  capital-gain  capital-loss  hours-per-week  \\\n",
      "0                   White  Male          2174             0              40   \n",
      "1                   White  Male             0             0              13   \n",
      "2                   White  Male             0             0              40   \n",
      "3                   Black  Male             0             0              40   \n",
      "7                   White  Male             0             0              45   \n",
      "...                   ...   ...           ...           ...             ...   \n",
      "32553  Asian-Pac-Islander  Male             0             0              11   \n",
      "32554               White  Male             0             0              40   \n",
      "32555               White  Male             0             0              40   \n",
      "32557               White  Male             0             0              40   \n",
      "32559               White  Male             0             0              20   \n",
      "\n",
      "      native-country salary  \n",
      "0      United-States  <=50K  \n",
      "1      United-States  <=50K  \n",
      "2      United-States  <=50K  \n",
      "3      United-States  <=50K  \n",
      "7      United-States   >50K  \n",
      "...              ...    ...  \n",
      "32553         Taiwan  <=50K  \n",
      "32554  United-States   >50K  \n",
      "32555  United-States  <=50K  \n",
      "32557  United-States   >50K  \n",
      "32559  United-States  <=50K  \n",
      "\n",
      "[21790 rows x 15 columns]\n"
     ]
    }
   ],
   "source": [
    "df_men = df[df[\"sex\"]==\"Male\"]\n",
    "print(df_men)"
   ]
  },
  {
   "cell_type": "code",
   "execution_count": 8,
   "id": "755bfae9",
   "metadata": {},
   "outputs": [
    {
     "name": "stdout",
     "output_type": "stream",
     "text": [
      "39.43354749885268\n"
     ]
    }
   ],
   "source": [
    "average_age_men = df_men.age.mean()\n",
    "print(average_age_men)"
   ]
  },
  {
   "cell_type": "markdown",
   "id": "74e3eb30",
   "metadata": {},
   "source": [
    "# What is the percentage of people who have a Bachelor's degree?"
   ]
  },
  {
   "cell_type": "code",
   "execution_count": 9,
   "id": "0c5c6eeb",
   "metadata": {},
   "outputs": [
    {
     "data": {
      "text/plain": [
       "5355"
      ]
     },
     "execution_count": 9,
     "metadata": {},
     "output_type": "execute_result"
    }
   ],
   "source": [
    "df_bachelors = df[df[\"education\"]==\"Bachelors\"]\n",
    "df_bachelors.education.count()\n"
   ]
  },
  {
   "cell_type": "code",
   "execution_count": 10,
   "id": "fa439c0c",
   "metadata": {},
   "outputs": [
    {
     "data": {
      "text/plain": [
       "32561"
      ]
     },
     "execution_count": 10,
     "metadata": {},
     "output_type": "execute_result"
    }
   ],
   "source": [
    "df.education.count()"
   ]
  },
  {
   "cell_type": "code",
   "execution_count": 11,
   "id": "0d7a42e3",
   "metadata": {},
   "outputs": [
    {
     "name": "stdout",
     "output_type": "stream",
     "text": [
      "The percentage of people with a bachelor's degree is 16.44605509658794%\n"
     ]
    }
   ],
   "source": [
    "percent_bachelors = (df_bachelors.education.count()/df.education.count())*100\n",
    "print(\"The percentage of people with a bachelor's degree is {}%\".format(percent_bachelors))"
   ]
  },
  {
   "cell_type": "markdown",
   "id": "d8ddbb47",
   "metadata": {},
   "source": [
    "# What percentage of people with advanced education (Bachelors, Masters, or Doctorate) make more than 50K?"
   ]
  },
  {
   "cell_type": "code",
   "execution_count": 12,
   "id": "9caad4f6",
   "metadata": {},
   "outputs": [],
   "source": [
    "df_advanced_education_more_fiftyK = df[(df[\"salary\"]==\">50K\")&(df[\"education\"]==\"Bachelors\")|(df[\"education\"]==\"Masters\")|(df[\"education\"]==\"Doctorate\")]"
   ]
  },
  {
   "cell_type": "code",
   "execution_count": 13,
   "id": "83963f53",
   "metadata": {},
   "outputs": [
    {
     "data": {
      "text/plain": [
       "4357"
      ]
     },
     "execution_count": 13,
     "metadata": {},
     "output_type": "execute_result"
    }
   ],
   "source": [
    "df_advanced_education_more_fiftyK.education.count()"
   ]
  },
  {
   "cell_type": "code",
   "execution_count": 14,
   "id": "89d79905",
   "metadata": {},
   "outputs": [
    {
     "data": {
      "text/plain": [
       "7491"
      ]
     },
     "execution_count": 14,
     "metadata": {},
     "output_type": "execute_result"
    }
   ],
   "source": [
    "df_advanced_education = df[(df[\"education\"]==\"Bachelors\")|(df[\"education\"]==\"Masters\")|(df[\"education\"]==\"Doctorate\")]\n",
    "df_advanced_education.education.count()"
   ]
  },
  {
   "cell_type": "code",
   "execution_count": 15,
   "id": "d231de7e",
   "metadata": {},
   "outputs": [
    {
     "name": "stdout",
     "output_type": "stream",
     "text": [
      "The percentage of people with advanced education who make more than $50k is 58.163129088239224%\n"
     ]
    }
   ],
   "source": [
    "percent_advanced_education_more_fiftyK = 100*(df_advanced_education_more_fiftyK.education.count())/(df_advanced_education.education.count())\n",
    "print(\"The percentage of people with advanced education who make more than $50k is {}%\".format(percent_advanced_education_more_fiftyK))"
   ]
  },
  {
   "cell_type": "markdown",
   "id": "7ea53159",
   "metadata": {},
   "source": [
    "# What percentage of people without advanced education make more than 50K?"
   ]
  },
  {
   "cell_type": "code",
   "execution_count": 16,
   "id": "4d2da78a",
   "metadata": {},
   "outputs": [
    {
     "data": {
      "text/plain": [
       "25070"
      ]
     },
     "execution_count": 16,
     "metadata": {},
     "output_type": "execute_result"
    }
   ],
   "source": [
    "df_without_advanced_education = df[(df[\"education\"]!=\"Bachelors\")&(df[\"education\"]!=\"Masters\")&(df[\"education\"]!=\"Doctorate\")]\n",
    "df_without_advanced_education.education.count()"
   ]
  },
  {
   "cell_type": "code",
   "execution_count": 17,
   "id": "68134cc8",
   "metadata": {},
   "outputs": [
    {
     "data": {
      "text/plain": [
       "4355"
      ]
     },
     "execution_count": 17,
     "metadata": {},
     "output_type": "execute_result"
    }
   ],
   "source": [
    "df_without_advanced_education_more_fiftyK = df[(df[\"salary\"]==\">50K\")&(df[\"education\"]!=\"Bachelors\")&(df[\"education\"]!=\"Masters\")&(df[\"education\"]!=\"Doctorate\")]\n",
    "\n",
    "df_without_advanced_education_more_fiftyK.education.count()"
   ]
  },
  {
   "cell_type": "code",
   "execution_count": 18,
   "id": "db18b98b",
   "metadata": {},
   "outputs": [
    {
     "name": "stdout",
     "output_type": "stream",
     "text": [
      "The percentage of people without advanced education who make more than $50k is 17.3713601914639%\n"
     ]
    }
   ],
   "source": [
    "percent_without_advanced_more_fiftyK = 100*(df_without_advanced_education_more_fiftyK.education.count())/(df_without_advanced_education.education.count())\n",
    "print(\"The percentage of people without advanced education who make more than $50k is {}%\".format(percent_without_advanced_more_fiftyK))"
   ]
  },
  {
   "cell_type": "markdown",
   "id": "594f35bb",
   "metadata": {},
   "source": [
    "# What is the minimum number of hours a person works per week"
   ]
  },
  {
   "cell_type": "code",
   "execution_count": 19,
   "id": "a5370d00",
   "metadata": {},
   "outputs": [
    {
     "name": "stdout",
     "output_type": "stream",
     "text": [
      "1\n"
     ]
    }
   ],
   "source": [
    "print(df[\"hours-per-week\"].min())"
   ]
  },
  {
   "cell_type": "markdown",
   "id": "116be62d",
   "metadata": {},
   "source": [
    "# What percentage of the people who work the minimum number of hours per week have a salary of more than 50K?"
   ]
  },
  {
   "cell_type": "code",
   "execution_count": 20,
   "id": "5e1e4cef",
   "metadata": {},
   "outputs": [],
   "source": [
    "df = df.rename(columns={\"education-num\":\"education_num\", \"marital-status\":\"marital_status\", \"capital-gain\":\"capital_gain\", \"capital-loss\":\"capital_loss\", \"hours-per-week\":\"hours_per_week\", \"native-country\":\"native_country\"})"
   ]
  },
  {
   "cell_type": "code",
   "execution_count": 21,
   "id": "a2aecc75",
   "metadata": {},
   "outputs": [
    {
     "data": {
      "text/plain": [
       "20"
      ]
     },
     "execution_count": 21,
     "metadata": {},
     "output_type": "execute_result"
    }
   ],
   "source": [
    "df_min_hours = df[df[\"hours_per_week\"]==1]\n",
    "df_min_hours.age.count()"
   ]
  },
  {
   "cell_type": "code",
   "execution_count": 22,
   "id": "b41e0f85",
   "metadata": {},
   "outputs": [
    {
     "data": {
      "text/plain": [
       "2"
      ]
     },
     "execution_count": 22,
     "metadata": {},
     "output_type": "execute_result"
    }
   ],
   "source": [
    "df_min_hours_more_fiftyK = df[(df[\"hours_per_week\"]==1)&(df[\"salary\"]==\">50K\")]\n",
    "df_min_hours_more_fiftyK.age.count()"
   ]
  },
  {
   "cell_type": "code",
   "execution_count": 23,
   "id": "89dfa342",
   "metadata": {},
   "outputs": [
    {
     "name": "stdout",
     "output_type": "stream",
     "text": [
      "The percentage of people who work the minimum number of hours per week who have a salary of more than 50K is 10.0%\n"
     ]
    }
   ],
   "source": [
    "percent_min_hours_more_fiftyK = 100*(df_min_hours_more_fiftyK.age.count()/df_min_hours.age.count())\n",
    "print(\"The percentage of people who work the minimum number of hours per week who have a salary of more than 50K is {}%\".format(percent_min_hours_more_fiftyK))"
   ]
  },
  {
   "cell_type": "markdown",
   "id": "f52dbf85",
   "metadata": {},
   "source": [
    "# What country has the highest percentage of people that earn >50K and what is that percentage?"
   ]
  },
  {
   "cell_type": "code",
   "execution_count": 24,
   "id": "345434b6",
   "metadata": {},
   "outputs": [
    {
     "data": {
      "text/plain": [
       "array(['United-States', 'Cuba', 'Jamaica', 'India', '?', 'Mexico',\n",
       "       'South', 'Puerto-Rico', 'Honduras', 'England', 'Canada', 'Germany',\n",
       "       'Iran', 'Philippines', 'Italy', 'Poland', 'Columbia', 'Cambodia',\n",
       "       'Thailand', 'Ecuador', 'Laos', 'Taiwan', 'Haiti', 'Portugal',\n",
       "       'Dominican-Republic', 'El-Salvador', 'France', 'Guatemala',\n",
       "       'China', 'Japan', 'Yugoslavia', 'Peru',\n",
       "       'Outlying-US(Guam-USVI-etc)', 'Scotland', 'Trinadad&Tobago',\n",
       "       'Greece', 'Nicaragua', 'Vietnam', 'Hong', 'Ireland', 'Hungary',\n",
       "       'Holand-Netherlands'], dtype=object)"
      ]
     },
     "execution_count": 24,
     "metadata": {},
     "output_type": "execute_result"
    }
   ],
   "source": [
    "df.native_country.unique()"
   ]
  },
  {
   "cell_type": "code",
   "execution_count": 37,
   "id": "074e5a18",
   "metadata": {},
   "outputs": [
    {
     "name": "stdout",
     "output_type": "stream",
     "text": [
      "United-States                 29170\n",
      "Mexico                          643\n",
      "?                               583\n",
      "Philippines                     198\n",
      "Germany                         137\n",
      "Canada                          121\n",
      "Puerto-Rico                     114\n",
      "El-Salvador                     106\n",
      "India                           100\n",
      "Cuba                             95\n",
      "England                          90\n",
      "Jamaica                          81\n",
      "South                            80\n",
      "China                            75\n",
      "Italy                            73\n",
      "Dominican-Republic               70\n",
      "Vietnam                          67\n",
      "Guatemala                        64\n",
      "Japan                            62\n",
      "Poland                           60\n",
      "Columbia                         59\n",
      "Taiwan                           51\n",
      "Haiti                            44\n",
      "Iran                             43\n",
      "Portugal                         37\n",
      "Nicaragua                        34\n",
      "Peru                             31\n",
      "France                           29\n",
      "Greece                           29\n",
      "Ecuador                          28\n",
      "Ireland                          24\n",
      "Hong                             20\n",
      "Cambodia                         19\n",
      "Trinadad&Tobago                  19\n",
      "Laos                             18\n",
      "Thailand                         18\n",
      "Yugoslavia                       16\n",
      "Outlying-US(Guam-USVI-etc)       14\n",
      "Honduras                         13\n",
      "Hungary                          13\n",
      "Scotland                         12\n",
      "Holand-Netherlands                1\n",
      "Name: native_country, dtype: int64\n"
     ]
    }
   ],
   "source": [
    "a = df.native_country.value_counts()\n",
    "print(a)"
   ]
  },
  {
   "cell_type": "code",
   "execution_count": 38,
   "id": "ee5f558b",
   "metadata": {},
   "outputs": [],
   "source": [
    "# native_country_count = {}\n",
    "# for country_name in df[\"native_country\"]:\n",
    "#     if country_name != native_country_count:\n",
    "#         native_country_count[country_name] = (df.native_country == country_name).sum()\n",
    "#         #alternative method: native_country_count[country_name] = df.native_country.value_counts()[country_name]\n",
    "# print(native_country_count)        \n",
    "    "
   ]
  },
  {
   "cell_type": "code",
   "execution_count": 39,
   "id": "6e8b8da9",
   "metadata": {},
   "outputs": [
    {
     "name": "stdout",
     "output_type": "stream",
     "text": [
      "United-States         7171\n",
      "?                      146\n",
      "Philippines             61\n",
      "Germany                 44\n",
      "India                   40\n",
      "Canada                  39\n",
      "Mexico                  33\n",
      "England                 30\n",
      "Italy                   25\n",
      "Cuba                    25\n",
      "Japan                   24\n",
      "Taiwan                  20\n",
      "China                   20\n",
      "Iran                    18\n",
      "South                   16\n",
      "Puerto-Rico             12\n",
      "Poland                  12\n",
      "France                  12\n",
      "Jamaica                 10\n",
      "El-Salvador              9\n",
      "Greece                   8\n",
      "Cambodia                 7\n",
      "Hong                     6\n",
      "Yugoslavia               6\n",
      "Ireland                  5\n",
      "Vietnam                  5\n",
      "Portugal                 4\n",
      "Haiti                    4\n",
      "Ecuador                  4\n",
      "Thailand                 3\n",
      "Hungary                  3\n",
      "Guatemala                3\n",
      "Scotland                 3\n",
      "Nicaragua                2\n",
      "Trinadad&Tobago          2\n",
      "Laos                     2\n",
      "Columbia                 2\n",
      "Dominican-Republic       2\n",
      "Peru                     2\n",
      "Honduras                 1\n",
      "Name: native_country, dtype: int64\n"
     ]
    }
   ],
   "source": [
    "# native_country_more_than_fiftyK_count = {}\n",
    "# for country_name in df[\"native_country\"]:\n",
    "#     if country_name != native_country_more_than_fiftyK_count:\n",
    "#         native_country_more_than_fiftyK_count[country_name] = df[(df.native_country == country_name) & (df.salary == \">50K\")].sum()\n",
    "# print(native_country_more_than_fiftyK_count) \n",
    "\n",
    "b = df[(df.salary == \">50K\")].native_country.value_counts()\n",
    "print(b)"
   ]
  },
  {
   "cell_type": "code",
   "execution_count": 54,
   "id": "cfc63541",
   "metadata": {},
   "outputs": [
    {
     "name": "stdout",
     "output_type": "stream",
     "text": [
      "?                             25.04\n",
      "Cambodia                      36.84\n",
      "Canada                        32.23\n",
      "China                         26.67\n",
      "Columbia                       3.39\n",
      "Cuba                          26.32\n",
      "Dominican-Republic             2.86\n",
      "Ecuador                       14.29\n",
      "El-Salvador                    8.49\n",
      "England                       33.33\n",
      "France                        41.38\n",
      "Germany                       32.12\n",
      "Greece                        27.59\n",
      "Guatemala                      4.69\n",
      "Haiti                          9.09\n",
      "Holand-Netherlands              NaN\n",
      "Honduras                       7.69\n",
      "Hong                          30.00\n",
      "Hungary                       23.08\n",
      "India                         40.00\n",
      "Iran                          41.86\n",
      "Ireland                       20.83\n",
      "Italy                         34.25\n",
      "Jamaica                       12.35\n",
      "Japan                         38.71\n",
      "Laos                          11.11\n",
      "Mexico                         5.13\n",
      "Nicaragua                      5.88\n",
      "Outlying-US(Guam-USVI-etc)      NaN\n",
      "Peru                           6.45\n",
      "Philippines                   30.81\n",
      "Poland                        20.00\n",
      "Portugal                      10.81\n",
      "Puerto-Rico                   10.53\n",
      "Scotland                      25.00\n",
      "South                         20.00\n",
      "Taiwan                        39.22\n",
      "Thailand                      16.67\n",
      "Trinadad&Tobago               10.53\n",
      "United-States                 24.58\n",
      "Vietnam                        7.46\n",
      "Yugoslavia                    37.50\n",
      "Name: native_country, dtype: float64\n"
     ]
    }
   ],
   "source": [
    "c = round(100* b/a, 2)\n",
    "print(c)"
   ]
  },
  {
   "cell_type": "code",
   "execution_count": 58,
   "id": "6da7119a",
   "metadata": {},
   "outputs": [
    {
     "name": "stdout",
     "output_type": "stream",
     "text": [
      "The percentage of people in ? who earn more than $50k is 25.04%.\n",
      "The percentage of people in Cambodia who earn more than $50k is 36.84%.\n",
      "The percentage of people in Canada who earn more than $50k is 32.23%.\n",
      "The percentage of people in China who earn more than $50k is 26.67%.\n",
      "The percentage of people in Columbia who earn more than $50k is 3.39%.\n",
      "The percentage of people in Cuba who earn more than $50k is 26.32%.\n",
      "The percentage of people in Dominican-Republic who earn more than $50k is 2.86%.\n",
      "The percentage of people in Ecuador who earn more than $50k is 14.29%.\n",
      "The percentage of people in El-Salvador who earn more than $50k is 8.49%.\n",
      "The percentage of people in England who earn more than $50k is 33.33%.\n",
      "The percentage of people in France who earn more than $50k is 41.38%.\n",
      "The percentage of people in Germany who earn more than $50k is 32.12%.\n",
      "The percentage of people in Greece who earn more than $50k is 27.59%.\n",
      "The percentage of people in Guatemala who earn more than $50k is 4.69%.\n",
      "The percentage of people in Haiti who earn more than $50k is 9.09%.\n",
      "The percentage of people in Holand-Netherlands who earn more than $50k is nan%.\n",
      "The percentage of people in Honduras who earn more than $50k is 7.69%.\n",
      "The percentage of people in Hong who earn more than $50k is 30.0%.\n",
      "The percentage of people in Hungary who earn more than $50k is 23.08%.\n",
      "The percentage of people in India who earn more than $50k is 40.0%.\n",
      "The percentage of people in Iran who earn more than $50k is 41.86%.\n",
      "The percentage of people in Ireland who earn more than $50k is 20.83%.\n",
      "The percentage of people in Italy who earn more than $50k is 34.25%.\n",
      "The percentage of people in Jamaica who earn more than $50k is 12.35%.\n",
      "The percentage of people in Japan who earn more than $50k is 38.71%.\n",
      "The percentage of people in Laos who earn more than $50k is 11.11%.\n",
      "The percentage of people in Mexico who earn more than $50k is 5.13%.\n",
      "The percentage of people in Nicaragua who earn more than $50k is 5.88%.\n",
      "The percentage of people in Outlying-US(Guam-USVI-etc) who earn more than $50k is nan%.\n",
      "The percentage of people in Peru who earn more than $50k is 6.45%.\n",
      "The percentage of people in Philippines who earn more than $50k is 30.81%.\n",
      "The percentage of people in Poland who earn more than $50k is 20.0%.\n",
      "The percentage of people in Portugal who earn more than $50k is 10.81%.\n",
      "The percentage of people in Puerto-Rico who earn more than $50k is 10.53%.\n",
      "The percentage of people in Scotland who earn more than $50k is 25.0%.\n",
      "The percentage of people in South who earn more than $50k is 20.0%.\n",
      "The percentage of people in Taiwan who earn more than $50k is 39.22%.\n",
      "The percentage of people in Thailand who earn more than $50k is 16.67%.\n",
      "The percentage of people in Trinadad&Tobago who earn more than $50k is 10.53%.\n",
      "The percentage of people in United-States who earn more than $50k is 24.58%.\n",
      "The percentage of people in Vietnam who earn more than $50k is 7.46%.\n",
      "The percentage of people in Yugoslavia who earn more than $50k is 37.5%.\n"
     ]
    }
   ],
   "source": [
    "\n",
    "    \n",
    "for val, cnt in c.iteritems():\n",
    "    percentage = \"The percentage of people in {country} who earn more than $50k is {percent}%.\".format(country = val, percent = cnt)\n",
    "    print(percentage)"
   ]
  },
  {
   "cell_type": "markdown",
   "id": "95ed2b12",
   "metadata": {},
   "source": [
    "# Identify the most popular occupation for those who earn >50K in India.\n",
    "\n",
    "    "
   ]
  },
  {
   "cell_type": "code",
   "execution_count": 29,
   "id": "a1d0a51c",
   "metadata": {},
   "outputs": [
    {
     "name": "stdout",
     "output_type": "stream",
     "text": [
      "Prof-specialty      25\n",
      "Exec-managerial      8\n",
      "Other-service        2\n",
      "Tech-support         2\n",
      "Transport-moving     1\n",
      "Sales                1\n",
      "Adm-clerical         1\n",
      "Name: occupation, dtype: int64\n"
     ]
    }
   ],
   "source": [
    "print(df[(df[\"native_country\"]==\"India\") & (df[\"salary\"]==\">50K\")].occupation.value_counts())"
   ]
  },
  {
   "cell_type": "code",
   "execution_count": null,
   "id": "f853f11d",
   "metadata": {},
   "outputs": [],
   "source": []
  }
 ],
 "metadata": {
  "kernelspec": {
   "display_name": "Python 3 (ipykernel)",
   "language": "python",
   "name": "python3"
  },
  "language_info": {
   "codemirror_mode": {
    "name": "ipython",
    "version": 3
   },
   "file_extension": ".py",
   "mimetype": "text/x-python",
   "name": "python",
   "nbconvert_exporter": "python",
   "pygments_lexer": "ipython3",
   "version": "3.9.7"
  }
 },
 "nbformat": 4,
 "nbformat_minor": 5
}
